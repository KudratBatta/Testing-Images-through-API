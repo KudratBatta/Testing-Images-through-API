{
  "cells": [
    {
      "cell_type": "markdown",
      "metadata": {
        "id": "view-in-github",
        "colab_type": "text"
      },
      "source": [
        "<a href=\"https://colab.research.google.com/github/KudratBatta/Testing-Images-through-API/blob/main/Testing_Images.ipynb\" target=\"_parent\"><img src=\"https://colab.research.google.com/assets/colab-badge.svg\" alt=\"Open In Colab\"/></a>"
      ]
    },
    {
      "cell_type": "markdown",
      "source": [
        "## Facial Expression"
      ],
      "metadata": {
        "id": "iqoAYGLbETgd"
      }
    },
    {
      "cell_type": "code",
      "source": [
        "# Predicting Happy Face\n",
        "\n",
        "from PIL import Image\n",
        "from landingai.predict import Predictor\n",
        "\n",
        "# Enter your API Key\n",
        "endpoint_id = \"a430a6f5-c168-4973-aec6-a717f921543a\"\n",
        "api_key = \"land_sk_I19xSS7w8SuiUYcy5rinn3jTxcGAGo0d3p6TVCGhD4dsFIj1wr\"\n",
        "\n",
        "# Load your image\n",
        "image = Image.open(\"/content/Happy.jpg\")\n",
        "image.save(\"/content/Happy.jpg\", format=\"JPEG\")\n",
        "\n",
        "\n",
        "# Run inference\n",
        "predictor = Predictor(endpoint_id, api_key=api_key)\n",
        "predictions = predictor.predict(image)\n",
        "print(predictions)"
      ],
      "metadata": {
        "id": "1s7YWdZroMfO",
        "colab": {
          "base_uri": "https://localhost:8080/"
        },
        "outputId": "3b53a234-bc1b-4520-b3ae-9cdb771b6e9d"
      },
      "execution_count": 19,
      "outputs": [
        {
          "output_type": "stream",
          "name": "stdout",
          "text": [
            "[ClassificationPrediction(score=0.9308156967163086, label_name='Happy', label_index=0)]\n"
          ]
        }
      ]
    },
    {
      "cell_type": "markdown",
      "source": [
        "## Grain Prediction"
      ],
      "metadata": {
        "id": "lG6hdniGEaz-"
      }
    },
    {
      "cell_type": "code",
      "source": [
        "# Predicting Rice Grain from Image\n",
        "\n",
        "from PIL import Image\n",
        "from landingai.predict import Predictor\n",
        "\n",
        "# Enter your API Key\n",
        "endpoint_id = \"dc542d98-c6b8-4015-a2c8-ce5796de669d\"\n",
        "api_key = \"land_sk_MfcWo8OpPfHo95jt0Xz8daXi0ul4hSTPxc4LaFCPOsiOCjDg5M\"\n",
        "\n",
        "# Load your image\n",
        "image = Image.open(\"/content/Rice - (1).png\")\n",
        "\n",
        "# Run inference\n",
        "predictor = Predictor(endpoint_id, api_key=api_key)\n",
        "predictions = predictor.predict(image)\n",
        "print(predictions)"
      ],
      "metadata": {
        "colab": {
          "base_uri": "https://localhost:8080/"
        },
        "id": "j3We3eM-CA6m",
        "outputId": "b9727102-f89f-40e8-e753-c6b1af1c0171"
      },
      "execution_count": 22,
      "outputs": [
        {
          "output_type": "stream",
          "name": "stdout",
          "text": [
            "[ClassificationPrediction(score=0.9909844398498535, label_name='rice', label_index=1)]\n"
          ]
        }
      ]
    },
    {
      "cell_type": "markdown",
      "source": [
        "## Kidney Disease Predict"
      ],
      "metadata": {
        "id": "4hwBKJ6xFIex"
      }
    },
    {
      "cell_type": "code",
      "source": [
        "# Predicting Kidney With no Disease\n",
        "\n",
        "from PIL import Image\n",
        "from landingai.predict import Predictor\n",
        "\n",
        "# Enter your API Key\n",
        "endpoint_id = \"94121b96-fc5b-45d1-a6a6-c386261d93a4\"\n",
        "api_key = \"land_sk_UxJIEcuwaegGhWqdDPtfSYo1rniGUfWRqnohP0D4SkEyi2M13z\"\n",
        "\n",
        "# Load your image\n",
        "image = Image.open(\"/content/Normal.jpg\")\n",
        "\n",
        "# Run inference\n",
        "predictor = Predictor(endpoint_id, api_key=api_key)\n",
        "predictions = predictor.predict(image)\n",
        "print(predictions)"
      ],
      "metadata": {
        "colab": {
          "base_uri": "https://localhost:8080/"
        },
        "id": "DKnykjDwEG8y",
        "outputId": "8dac9d8d-8e5b-4639-eff0-5823e3a6004a"
      },
      "execution_count": 21,
      "outputs": [
        {
          "output_type": "stream",
          "name": "stdout",
          "text": [
            "[ClassificationPrediction(score=0.9794408082962036, label_name='Normal', label_index=0)]\n"
          ]
        }
      ]
    }
  ],
  "metadata": {
    "colab": {
      "provenance": [],
      "authorship_tag": "ABX9TyOC3wtfLk/S+O2ICW3JrkjV",
      "include_colab_link": true
    },
    "kernelspec": {
      "display_name": "Python 3",
      "name": "python3"
    },
    "language_info": {
      "name": "python"
    }
  },
  "nbformat": 4,
  "nbformat_minor": 0
}